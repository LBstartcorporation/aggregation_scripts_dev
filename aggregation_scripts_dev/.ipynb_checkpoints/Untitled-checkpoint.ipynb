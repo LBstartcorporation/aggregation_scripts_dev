{
 "cells": [
  {
   "cell_type": "code",
   "execution_count": 30,
   "metadata": {},
   "outputs": [
    {
     "name": "stdout",
     "output_type": "stream",
     "text": [
      "                 messages\n",
      "                    count\n",
      "mood  Unnamed: 0         \n",
      "CHILL 0                 1\n",
      "      2                 1\n",
      "      3                 1\n",
      "      4                 1\n",
      "      5                 1\n",
      "      6                 1\n",
      "      7                 1\n",
      "      8                 1\n",
      "      9                 1\n",
      "      10                1\n",
      "      11                1\n",
      "      12                1\n",
      "      13                1\n",
      "      14                1\n",
      "      15                1\n",
      "      16                1\n",
      "      17                1\n",
      "      18                1\n",
      "      19                1\n",
      "      20                1\n",
      "      21                1\n",
      "      22                1\n",
      "      23                1\n",
      "      24                1\n",
      "      25                1\n",
      "      26                1\n",
      "      27                1\n",
      "      28                1\n",
      "      29                1\n",
      "      30                1\n",
      "...                   ...\n",
      "SPORT 611               1\n",
      "      612               1\n",
      "      615               1\n",
      "      618               1\n",
      "      620               1\n",
      "      621               1\n",
      "      622               1\n",
      "      623               1\n",
      "      625               1\n",
      "      629               1\n",
      "      630               1\n",
      "      657               1\n",
      "      664               1\n",
      "      676               1\n",
      "      693               1\n",
      "      694               1\n",
      "      698               1\n",
      "      699               1\n",
      "      700               1\n",
      "      708               1\n",
      "      715               1\n",
      "      717               1\n",
      "      718               1\n",
      "      721               1\n",
      "      733               1\n",
      "      734               1\n",
      "      737               1\n",
      "      738               1\n",
      "      753               1\n",
      "      759               1\n",
      "\n",
      "[770 rows x 1 columns]\n"
     ]
    }
   ],
   "source": [
    "import pandas as pd\n",
    "\n",
    "##### LOAD DATA #####\n",
    "df = pd.read_csv('InstantHistory.csv', ';')\n",
    "\n",
    "\n",
    "df_interm = df[['mood', 'createdAt']]\n",
    "\n",
    "\n",
    "##### AGGREGATION #####\n",
    "#dfc = df_interm.groupby(['mood', 'Unnamed: 0']).agg(['count'])\n",
    "\n",
    "\n",
    "df_interm.to_csv('count_messages.csv', encoding='utf-8', sep=';')"
   ]
  },
  {
   "cell_type": "code",
   "execution_count": null,
   "metadata": {
    "collapsed": true
   },
   "outputs": [],
   "source": []
  },
  {
   "cell_type": "code",
   "execution_count": null,
   "metadata": {
    "collapsed": true
   },
   "outputs": [],
   "source": []
  }
 ],
 "metadata": {
  "kernelspec": {
   "display_name": "Python 2",
   "language": "python",
   "name": "python2"
  },
  "language_info": {
   "codemirror_mode": {
    "name": "ipython",
    "version": 2
   },
   "file_extension": ".py",
   "mimetype": "text/x-python",
   "name": "python",
   "nbconvert_exporter": "python",
   "pygments_lexer": "ipython2",
   "version": "2.7.13"
  }
 },
 "nbformat": 4,
 "nbformat_minor": 2
}
